{
 "cells": [
  {
   "cell_type": "code",
   "execution_count": 4,
   "metadata": {},
   "outputs": [
    {
     "data": {
      "text/plain": [
       "pandas.core.frame.DataFrame"
      ]
     },
     "execution_count": 4,
     "metadata": {},
     "output_type": "execute_result"
    }
   ],
   "source": [
    "from sklearn import linear_model\n",
    "import matplotlib.pyplot as plt \n",
    "import pandas as pd\n",
    "import numpy as np\n",
    "from sklearn import datasets ## imports datasets from scikit-learn\n",
    "df_raw = pd.read_csv(\"C:/Users/Divya Mereddy/OneDrive - United Installs, LLC/Python Scripts/DataSets/Data Export Daily Install_WO_edited.csv\",index_col=0)\n",
    "df = pd.read_csv(\"C:/Users/Divya Mereddy/Documents/Python Scripts/Data.csv\",index_col=0)\n",
    "type(df)"
   ]
  },
  {
   "cell_type": "code",
   "execution_count": 5,
   "metadata": {},
   "outputs": [],
   "source": [
    "df=df_raw[df_raw['Pad Type']=='Super 6 lb']\n"
   ]
  },
  {
   "cell_type": "code",
   "execution_count": 6,
   "metadata": {},
   "outputs": [],
   "source": [
    "df=df[['PO#','Pad Type','Rolls','Linear Feet','Store #','Current Status']]"
   ]
  },
  {
   "cell_type": "code",
   "execution_count": 7,
   "metadata": {},
   "outputs": [
    {
     "data": {
      "text/html": [
       "<div>\n",
       "<style scoped>\n",
       "    .dataframe tbody tr th:only-of-type {\n",
       "        vertical-align: middle;\n",
       "    }\n",
       "\n",
       "    .dataframe tbody tr th {\n",
       "        vertical-align: top;\n",
       "    }\n",
       "\n",
       "    .dataframe thead th {\n",
       "        text-align: right;\n",
       "    }\n",
       "</style>\n",
       "<table border=\"1\" class=\"dataframe\">\n",
       "  <thead>\n",
       "    <tr style=\"text-align: right;\">\n",
       "      <th></th>\n",
       "      <th>PO#</th>\n",
       "      <th>Pad Type</th>\n",
       "      <th>Rolls</th>\n",
       "      <th>Linear Feet</th>\n",
       "      <th>Store #</th>\n",
       "      <th>Current Status</th>\n",
       "    </tr>\n",
       "    <tr>\n",
       "      <th>Customer Name</th>\n",
       "      <th></th>\n",
       "      <th></th>\n",
       "      <th></th>\n",
       "      <th></th>\n",
       "      <th></th>\n",
       "      <th></th>\n",
       "    </tr>\n",
       "  </thead>\n",
       "  <tbody>\n",
       "    <tr>\n",
       "      <th>Adam &amp; sara Henegar</th>\n",
       "      <td>57857473</td>\n",
       "      <td>Super 6 lb</td>\n",
       "      <td>3.0</td>\n",
       "      <td>35.00</td>\n",
       "      <td>0554 - Lowe's of Florence</td>\n",
       "      <td>Complete and Billed</td>\n",
       "    </tr>\n",
       "    <tr>\n",
       "      <th>ADAM REUSCH</th>\n",
       "      <td>44903025</td>\n",
       "      <td>Super 6 lb</td>\n",
       "      <td>2.0</td>\n",
       "      <td>18.67</td>\n",
       "      <td>0554 - Lowe's of Florence</td>\n",
       "      <td>Complete and Billed</td>\n",
       "    </tr>\n",
       "    <tr>\n",
       "      <th>Adolf Allesch</th>\n",
       "      <td>52299559</td>\n",
       "      <td>Super 6 lb</td>\n",
       "      <td>2.0</td>\n",
       "      <td>42.00</td>\n",
       "      <td>0554 - Lowe's of Florence</td>\n",
       "      <td>Complete and Billed</td>\n",
       "    </tr>\n",
       "    <tr>\n",
       "      <th>Adolf Allesch</th>\n",
       "      <td>52299618</td>\n",
       "      <td>Super 6 lb</td>\n",
       "      <td>3.0</td>\n",
       "      <td>33.00</td>\n",
       "      <td>0554 - Lowe's of Florence</td>\n",
       "      <td>Complete and Billed</td>\n",
       "    </tr>\n",
       "    <tr>\n",
       "      <th>AL FEDERMAN</th>\n",
       "      <td>44430919</td>\n",
       "      <td>Super 6 lb</td>\n",
       "      <td>2.0</td>\n",
       "      <td>18.67</td>\n",
       "      <td>1071 - Lowe's of Highland Heights</td>\n",
       "      <td>Complete and Billed</td>\n",
       "    </tr>\n",
       "  </tbody>\n",
       "</table>\n",
       "</div>"
      ],
      "text/plain": [
       "                          PO#    Pad Type  Rolls  Linear Feet  \\\n",
       "Customer Name                                                   \n",
       "Adam & sara Henegar  57857473  Super 6 lb    3.0        35.00   \n",
       "ADAM REUSCH          44903025  Super 6 lb    2.0        18.67   \n",
       "Adolf Allesch        52299559  Super 6 lb    2.0        42.00   \n",
       "Adolf Allesch        52299618  Super 6 lb    3.0        33.00   \n",
       "AL FEDERMAN          44430919  Super 6 lb    2.0        18.67   \n",
       "\n",
       "                                               Store #       Current Status  \n",
       "Customer Name                                                                \n",
       "Adam & sara Henegar          0554 - Lowe's of Florence  Complete and Billed  \n",
       "ADAM REUSCH                  0554 - Lowe's of Florence  Complete and Billed  \n",
       "Adolf Allesch                0554 - Lowe's of Florence  Complete and Billed  \n",
       "Adolf Allesch                0554 - Lowe's of Florence  Complete and Billed  \n",
       "AL FEDERMAN          1071 - Lowe's of Highland Heights  Complete and Billed  "
      ]
     },
     "execution_count": 7,
     "metadata": {},
     "output_type": "execute_result"
    }
   ],
   "source": [
    "df.head()"
   ]
  },
  {
   "cell_type": "code",
   "execution_count": 8,
   "metadata": {},
   "outputs": [
    {
     "data": {
      "text/html": [
       "<div>\n",
       "<style scoped>\n",
       "    .dataframe tbody tr th:only-of-type {\n",
       "        vertical-align: middle;\n",
       "    }\n",
       "\n",
       "    .dataframe tbody tr th {\n",
       "        vertical-align: top;\n",
       "    }\n",
       "\n",
       "    .dataframe thead th {\n",
       "        text-align: right;\n",
       "    }\n",
       "</style>\n",
       "<table border=\"1\" class=\"dataframe\">\n",
       "  <thead>\n",
       "    <tr style=\"text-align: right;\">\n",
       "      <th></th>\n",
       "      <th>count</th>\n",
       "      <th>mean</th>\n",
       "      <th>std</th>\n",
       "      <th>min</th>\n",
       "      <th>25%</th>\n",
       "      <th>50%</th>\n",
       "      <th>75%</th>\n",
       "      <th>max</th>\n",
       "    </tr>\n",
       "  </thead>\n",
       "  <tbody>\n",
       "    <tr>\n",
       "      <th>Rolls</th>\n",
       "      <td>214.0</td>\n",
       "      <td>1.953271</td>\n",
       "      <td>0.958120</td>\n",
       "      <td>0.0</td>\n",
       "      <td>2.0</td>\n",
       "      <td>2.00</td>\n",
       "      <td>2.0</td>\n",
       "      <td>7.0</td>\n",
       "    </tr>\n",
       "    <tr>\n",
       "      <th>Linear Feet</th>\n",
       "      <td>214.0</td>\n",
       "      <td>20.498131</td>\n",
       "      <td>11.124919</td>\n",
       "      <td>0.0</td>\n",
       "      <td>18.0</td>\n",
       "      <td>18.67</td>\n",
       "      <td>27.0</td>\n",
       "      <td>44.0</td>\n",
       "    </tr>\n",
       "  </tbody>\n",
       "</table>\n",
       "</div>"
      ],
      "text/plain": [
       "             count       mean        std  min   25%    50%   75%   max\n",
       "Rolls        214.0   1.953271   0.958120  0.0   2.0   2.00   2.0   7.0\n",
       "Linear Feet  214.0  20.498131  11.124919  0.0  18.0  18.67  27.0  44.0"
      ]
     },
     "execution_count": 8,
     "metadata": {},
     "output_type": "execute_result"
    }
   ],
   "source": [
    "summary = df.describe()\n",
    "summary = summary.transpose()\n",
    "summary"
   ]
  },
  {
   "cell_type": "code",
   "execution_count": 9,
   "metadata": {},
   "outputs": [],
   "source": [
    "Olddata=['']"
   ]
  },
  {
   "cell_type": "code",
   "execution_count": 10,
   "metadata": {},
   "outputs": [],
   "source": [
    "#measurement chnages \n",
    "df['Pad_Requirement_Count']=df['Rolls']*45+df['Linear Feet']"
   ]
  },
  {
   "cell_type": "code",
   "execution_count": 11,
   "metadata": {},
   "outputs": [],
   "source": [
    "CancelledPadState=['Project Cancelled','Cancelled by CPO/ISO','Project Canceled - Duplicate']"
   ]
  },
  {
   "cell_type": "code",
   "execution_count": 12,
   "metadata": {},
   "outputs": [],
   "source": [
    "PadnotRequiredState=['Verification - Exceptions Found',\n",
    "'Install Complete - Survey Required',\n",
    "'Project Incomplete',\n",
    "'Dispatched',\n",
    "'Install Complete - Follow up Complete',\n",
    "'In Progress Call',\n",
    "'Project Completed Survey ASAP',\n",
    "'Install Complete - Ready to Bill',\n",
    "'Refund and Rebill Complete',\n",
    "'Project Complete Left Message To Survey',\n",
    "'Project Complete -  Accounting To Review',\n",
    "'Project Complete - Waiting on COC',\n",
    "'Project Complete - CoC Submitted',\n",
    "'Project Complete - Accounting Final Review',\n",
    "'Project Complete -  Waiting on RR',\n",
    "'Project Complete - Paperwork Submitted',\n",
    "'Complete and Billed',\n",
    "'Completed and Invoiced',\n",
    "'Install In Progress - Waiting on Addl PO',\n",
    "'Project Complete - Non Billable',\n",
    "'Install Complete - Payroll to Verify',\n",
    "'Invoiced Waiting on CoC',\n",
    "\n",
    "]"
   ]
  },
  {
   "cell_type": "code",
   "execution_count": 13,
   "metadata": {},
   "outputs": [],
   "source": [
    "#ReceivedState=['Received Express P.O.','Received P.O.']\n",
    "PadRequiredState=['Express Sent To Scheduling','Left Message','Left ‘nd Message','Left 3rd Message','Sent To Installer To Schedule',\n",
    "'Unable to leave message - Voicemail full',\n",
    "'Attempted To Contact','Customer not ready to schedule','Customer no show',\n",
    "'Verification - Awaiting Product Check'\n",
    ",'Install Scheduled'\n",
    ",'Verification Complete - Ready To Schedule'\n",
    ",'Received P.O.'\n",
    ",'Received Express P.O.'\n",
    ",'Verification Complete - Waiting on SOS'\n",
    ",'SOS Product Received - Ready To Schedule’'\n",
    ",'Left ‘nd Message'\n",
    ",'Left 3rd Message'\n",
    ",'Customer Unreachable - Please Provide an Alternate Phone Number'\n",
    ",'Per CPO -  Product Received Verification Needed'\n",
    ",'Voicemail Not Set Up - Unable to Leave Message']\n",
    "\n",
    "\n",
    "#if we are reserving the pad and have a functionality for that then we can fetch status from that"
   ]
  },
  {
   "cell_type": "code",
   "execution_count": 14,
   "metadata": {},
   "outputs": [],
   "source": [
    "CancelledData=['Project Cancelled','Cancelled by CPO/ISO','Project Canceled - Duplicate']"
   ]
  },
  {
   "cell_type": "code",
   "execution_count": 15,
   "metadata": {},
   "outputs": [
    {
     "name": "stderr",
     "output_type": "stream",
     "text": [
      "C:\\Users\\Divya Mereddy\\Anaconda31\\lib\\site-packages\\ipykernel_launcher.py:1: SettingWithCopyWarning: \n",
      "A value is trying to be set on a copy of a slice from a DataFrame\n",
      "\n",
      "See the caveats in the documentation: http://pandas.pydata.org/pandas-docs/stable/indexing.html#indexing-view-versus-copy\n",
      "  \"\"\"Entry point for launching an IPython kernel.\n",
      "C:\\Users\\Divya Mereddy\\Anaconda31\\lib\\site-packages\\ipykernel_launcher.py:2: SettingWithCopyWarning: \n",
      "A value is trying to be set on a copy of a slice from a DataFrame\n",
      "\n",
      "See the caveats in the documentation: http://pandas.pydata.org/pandas-docs/stable/indexing.html#indexing-view-versus-copy\n",
      "  \n",
      "C:\\Users\\Divya Mereddy\\Anaconda31\\lib\\site-packages\\ipykernel_launcher.py:3: SettingWithCopyWarning: \n",
      "A value is trying to be set on a copy of a slice from a DataFrame\n",
      "\n",
      "See the caveats in the documentation: http://pandas.pydata.org/pandas-docs/stable/indexing.html#indexing-view-versus-copy\n",
      "  This is separate from the ipykernel package so we can avoid doing imports until\n"
     ]
    }
   ],
   "source": [
    "df['Current Status'][df['Current Status'].isin(PadRequiredState)]=1\n",
    "df['Current Status'][df['Current Status'].isin(CancelledPadState)]=-1\n",
    "df['Current Status'][df['Current Status'].isin(PadnotRequiredState)]=0"
   ]
  },
  {
   "cell_type": "code",
   "execution_count": 16,
   "metadata": {},
   "outputs": [
    {
     "name": "stdout",
     "output_type": "stream",
     "text": [
      "count     214\n",
      "unique      3\n",
      "top         0\n",
      "freq      209\n",
      "Name: Current Status, dtype: int64\n"
     ]
    },
    {
     "data": {
      "text/plain": [
       "count     0\n",
       "unique    0\n",
       "Name: Current Status, dtype: int64"
      ]
     },
     "execution_count": 16,
     "metadata": {},
     "output_type": "execute_result"
    }
   ],
   "source": [
    "#df_raw['Current Status'][df_raw['Current Status'].isin([0,1,-1])==0]\n",
    "print(df['Current Status'].describe())\n",
    "df_ramdomdata=df['Current Status'][~df['Current Status'].isin([0,1,-1])]\n",
    "df_ramdomdata.describe()"
   ]
  },
  {
   "cell_type": "code",
   "execution_count": 17,
   "metadata": {},
   "outputs": [
    {
     "data": {
      "text/html": [
       "<div>\n",
       "<style scoped>\n",
       "    .dataframe tbody tr th:only-of-type {\n",
       "        vertical-align: middle;\n",
       "    }\n",
       "\n",
       "    .dataframe tbody tr th {\n",
       "        vertical-align: top;\n",
       "    }\n",
       "\n",
       "    .dataframe thead th {\n",
       "        text-align: right;\n",
       "    }\n",
       "</style>\n",
       "<table border=\"1\" class=\"dataframe\">\n",
       "  <thead>\n",
       "    <tr style=\"text-align: right;\">\n",
       "      <th></th>\n",
       "      <th>PO#</th>\n",
       "      <th>Pad Type</th>\n",
       "      <th>Rolls</th>\n",
       "      <th>Linear Feet</th>\n",
       "      <th>Store #</th>\n",
       "      <th>Current Status</th>\n",
       "      <th>Pad_Requirement_Count</th>\n",
       "    </tr>\n",
       "    <tr>\n",
       "      <th>Customer Name</th>\n",
       "      <th></th>\n",
       "      <th></th>\n",
       "      <th></th>\n",
       "      <th></th>\n",
       "      <th></th>\n",
       "      <th></th>\n",
       "      <th></th>\n",
       "    </tr>\n",
       "  </thead>\n",
       "  <tbody>\n",
       "    <tr>\n",
       "      <th>Adam &amp; sara Henegar</th>\n",
       "      <td>57857473</td>\n",
       "      <td>Super 6 lb</td>\n",
       "      <td>3.0</td>\n",
       "      <td>35.00</td>\n",
       "      <td>0554 - Lowe's of Florence</td>\n",
       "      <td>0</td>\n",
       "      <td>170.00</td>\n",
       "    </tr>\n",
       "    <tr>\n",
       "      <th>ADAM REUSCH</th>\n",
       "      <td>44903025</td>\n",
       "      <td>Super 6 lb</td>\n",
       "      <td>2.0</td>\n",
       "      <td>18.67</td>\n",
       "      <td>0554 - Lowe's of Florence</td>\n",
       "      <td>0</td>\n",
       "      <td>108.67</td>\n",
       "    </tr>\n",
       "    <tr>\n",
       "      <th>Adolf Allesch</th>\n",
       "      <td>52299559</td>\n",
       "      <td>Super 6 lb</td>\n",
       "      <td>2.0</td>\n",
       "      <td>42.00</td>\n",
       "      <td>0554 - Lowe's of Florence</td>\n",
       "      <td>0</td>\n",
       "      <td>132.00</td>\n",
       "    </tr>\n",
       "    <tr>\n",
       "      <th>Adolf Allesch</th>\n",
       "      <td>52299618</td>\n",
       "      <td>Super 6 lb</td>\n",
       "      <td>3.0</td>\n",
       "      <td>33.00</td>\n",
       "      <td>0554 - Lowe's of Florence</td>\n",
       "      <td>0</td>\n",
       "      <td>168.00</td>\n",
       "    </tr>\n",
       "    <tr>\n",
       "      <th>AL FEDERMAN</th>\n",
       "      <td>44430919</td>\n",
       "      <td>Super 6 lb</td>\n",
       "      <td>2.0</td>\n",
       "      <td>18.67</td>\n",
       "      <td>1071 - Lowe's of Highland Heights</td>\n",
       "      <td>0</td>\n",
       "      <td>108.67</td>\n",
       "    </tr>\n",
       "  </tbody>\n",
       "</table>\n",
       "</div>"
      ],
      "text/plain": [
       "                          PO#    Pad Type  Rolls  Linear Feet  \\\n",
       "Customer Name                                                   \n",
       "Adam & sara Henegar  57857473  Super 6 lb    3.0        35.00   \n",
       "ADAM REUSCH          44903025  Super 6 lb    2.0        18.67   \n",
       "Adolf Allesch        52299559  Super 6 lb    2.0        42.00   \n",
       "Adolf Allesch        52299618  Super 6 lb    3.0        33.00   \n",
       "AL FEDERMAN          44430919  Super 6 lb    2.0        18.67   \n",
       "\n",
       "                                               Store # Current Status  \\\n",
       "Customer Name                                                           \n",
       "Adam & sara Henegar          0554 - Lowe's of Florence              0   \n",
       "ADAM REUSCH                  0554 - Lowe's of Florence              0   \n",
       "Adolf Allesch                0554 - Lowe's of Florence              0   \n",
       "Adolf Allesch                0554 - Lowe's of Florence              0   \n",
       "AL FEDERMAN          1071 - Lowe's of Highland Heights              0   \n",
       "\n",
       "                     Pad_Requirement_Count  \n",
       "Customer Name                               \n",
       "Adam & sara Henegar                 170.00  \n",
       "ADAM REUSCH                         108.67  \n",
       "Adolf Allesch                       132.00  \n",
       "Adolf Allesch                       168.00  \n",
       "AL FEDERMAN                         108.67  "
      ]
     },
     "execution_count": 17,
     "metadata": {},
     "output_type": "execute_result"
    }
   ],
   "source": [
    "df[df['Current Status'].isin([0,1,2])].head()"
   ]
  },
  {
   "cell_type": "code",
   "execution_count": 18,
   "metadata": {},
   "outputs": [],
   "source": [
    "#df['Current Status'].isin(ReceivedState) #its works for only int\n",
    "#df.loc[df['dollars_spent'] > 0, 'purchase'] = 1\n",
    "#df['Current Status'].str.contains(ReceivedState)"
   ]
  },
  {
   "cell_type": "code",
   "execution_count": 19,
   "metadata": {},
   "outputs": [],
   "source": [
    "#df['Current Status1'] = df['Current Status'].apply(lambda x: 1 if df['Current Status'].isin(ReceivedState)  else 0)"
   ]
  },
  {
   "cell_type": "code",
   "execution_count": 20,
   "metadata": {},
   "outputs": [
    {
     "data": {
      "text/html": [
       "<div>\n",
       "<style scoped>\n",
       "    .dataframe tbody tr th:only-of-type {\n",
       "        vertical-align: middle;\n",
       "    }\n",
       "\n",
       "    .dataframe tbody tr th {\n",
       "        vertical-align: top;\n",
       "    }\n",
       "\n",
       "    .dataframe thead th {\n",
       "        text-align: right;\n",
       "    }\n",
       "</style>\n",
       "<table border=\"1\" class=\"dataframe\">\n",
       "  <thead>\n",
       "    <tr style=\"text-align: right;\">\n",
       "      <th></th>\n",
       "      <th>Pad_Requirement_Count</th>\n",
       "    </tr>\n",
       "    <tr>\n",
       "      <th>Customer Name</th>\n",
       "      <th></th>\n",
       "    </tr>\n",
       "  </thead>\n",
       "  <tbody>\n",
       "    <tr>\n",
       "      <th>Adam &amp; sara Henegar</th>\n",
       "      <td>170.00</td>\n",
       "    </tr>\n",
       "    <tr>\n",
       "      <th>ADAM REUSCH</th>\n",
       "      <td>108.67</td>\n",
       "    </tr>\n",
       "    <tr>\n",
       "      <th>Adolf Allesch</th>\n",
       "      <td>132.00</td>\n",
       "    </tr>\n",
       "    <tr>\n",
       "      <th>Adolf Allesch</th>\n",
       "      <td>168.00</td>\n",
       "    </tr>\n",
       "    <tr>\n",
       "      <th>AL FEDERMAN</th>\n",
       "      <td>108.67</td>\n",
       "    </tr>\n",
       "  </tbody>\n",
       "</table>\n",
       "</div>"
      ],
      "text/plain": [
       "                     Pad_Requirement_Count\n",
       "Customer Name                             \n",
       "Adam & sara Henegar                 170.00\n",
       "ADAM REUSCH                         108.67\n",
       "Adolf Allesch                       132.00\n",
       "Adolf Allesch                       168.00\n",
       "AL FEDERMAN                         108.67"
      ]
     },
     "execution_count": 20,
     "metadata": {},
     "output_type": "execute_result"
    }
   ],
   "source": [
    "df.loc[:,['Pad_Requirement_Count']].head()"
   ]
  },
  {
   "cell_type": "code",
   "execution_count": 21,
   "metadata": {},
   "outputs": [],
   "source": [
    "import pandas as pd\n",
    "# define the data/predictors as the pre-set feature names  \n",
    "#df = pd.DataFrame(data.data, columns=data.feature_names)\n",
    "# Put the target (housing value -- MEDV) in another DataFrame\n",
    "target = df[['Pad_Requirement_Count']]"
   ]
  },
  {
   "cell_type": "code",
   "execution_count": 22,
   "metadata": {},
   "outputs": [
    {
     "name": "stdout",
     "output_type": "stream",
     "text": [
      "                     Pad_Requirement_Count\n",
      "Customer Name                             \n",
      "Adam & sara Henegar                 170.00\n",
      "ADAM REUSCH                         108.67\n",
      "Adolf Allesch                       132.00\n",
      "Adolf Allesch                       168.00\n",
      "AL FEDERMAN                         108.67\n"
     ]
    }
   ],
   "source": [
    "target\n",
    "print(target.head())"
   ]
  },
  {
   "cell_type": "code",
   "execution_count": 23,
   "metadata": {},
   "outputs": [
    {
     "data": {
      "text/html": [
       "<div>\n",
       "<style scoped>\n",
       "    .dataframe tbody tr th:only-of-type {\n",
       "        vertical-align: middle;\n",
       "    }\n",
       "\n",
       "    .dataframe tbody tr th {\n",
       "        vertical-align: top;\n",
       "    }\n",
       "\n",
       "    .dataframe thead th {\n",
       "        text-align: right;\n",
       "    }\n",
       "</style>\n",
       "<table border=\"1\" class=\"dataframe\">\n",
       "  <thead>\n",
       "    <tr style=\"text-align: right;\">\n",
       "      <th></th>\n",
       "      <th>PO#</th>\n",
       "      <th>Pad Type</th>\n",
       "      <th>Rolls</th>\n",
       "      <th>Linear Feet</th>\n",
       "      <th>Store #</th>\n",
       "      <th>Current Status</th>\n",
       "      <th>Pad_Requirement_Count</th>\n",
       "    </tr>\n",
       "    <tr>\n",
       "      <th>Customer Name</th>\n",
       "      <th></th>\n",
       "      <th></th>\n",
       "      <th></th>\n",
       "      <th></th>\n",
       "      <th></th>\n",
       "      <th></th>\n",
       "      <th></th>\n",
       "    </tr>\n",
       "  </thead>\n",
       "  <tbody>\n",
       "    <tr>\n",
       "      <th>Adam &amp; sara Henegar</th>\n",
       "      <td>57857473</td>\n",
       "      <td>Super 6 lb</td>\n",
       "      <td>3.0</td>\n",
       "      <td>35.00</td>\n",
       "      <td>0554 - Lowe's of Florence</td>\n",
       "      <td>0</td>\n",
       "      <td>170.00</td>\n",
       "    </tr>\n",
       "    <tr>\n",
       "      <th>ADAM REUSCH</th>\n",
       "      <td>44903025</td>\n",
       "      <td>Super 6 lb</td>\n",
       "      <td>2.0</td>\n",
       "      <td>18.67</td>\n",
       "      <td>0554 - Lowe's of Florence</td>\n",
       "      <td>0</td>\n",
       "      <td>108.67</td>\n",
       "    </tr>\n",
       "    <tr>\n",
       "      <th>Adolf Allesch</th>\n",
       "      <td>52299559</td>\n",
       "      <td>Super 6 lb</td>\n",
       "      <td>2.0</td>\n",
       "      <td>42.00</td>\n",
       "      <td>0554 - Lowe's of Florence</td>\n",
       "      <td>0</td>\n",
       "      <td>132.00</td>\n",
       "    </tr>\n",
       "    <tr>\n",
       "      <th>Adolf Allesch</th>\n",
       "      <td>52299618</td>\n",
       "      <td>Super 6 lb</td>\n",
       "      <td>3.0</td>\n",
       "      <td>33.00</td>\n",
       "      <td>0554 - Lowe's of Florence</td>\n",
       "      <td>0</td>\n",
       "      <td>168.00</td>\n",
       "    </tr>\n",
       "    <tr>\n",
       "      <th>AL FEDERMAN</th>\n",
       "      <td>44430919</td>\n",
       "      <td>Super 6 lb</td>\n",
       "      <td>2.0</td>\n",
       "      <td>18.67</td>\n",
       "      <td>1071 - Lowe's of Highland Heights</td>\n",
       "      <td>0</td>\n",
       "      <td>108.67</td>\n",
       "    </tr>\n",
       "  </tbody>\n",
       "</table>\n",
       "</div>"
      ],
      "text/plain": [
       "                          PO#    Pad Type  Rolls  Linear Feet  \\\n",
       "Customer Name                                                   \n",
       "Adam & sara Henegar  57857473  Super 6 lb    3.0        35.00   \n",
       "ADAM REUSCH          44903025  Super 6 lb    2.0        18.67   \n",
       "Adolf Allesch        52299559  Super 6 lb    2.0        42.00   \n",
       "Adolf Allesch        52299618  Super 6 lb    3.0        33.00   \n",
       "AL FEDERMAN          44430919  Super 6 lb    2.0        18.67   \n",
       "\n",
       "                                               Store # Current Status  \\\n",
       "Customer Name                                                           \n",
       "Adam & sara Henegar          0554 - Lowe's of Florence              0   \n",
       "ADAM REUSCH                  0554 - Lowe's of Florence              0   \n",
       "Adolf Allesch                0554 - Lowe's of Florence              0   \n",
       "Adolf Allesch                0554 - Lowe's of Florence              0   \n",
       "AL FEDERMAN          1071 - Lowe's of Highland Heights              0   \n",
       "\n",
       "                     Pad_Requirement_Count  \n",
       "Customer Name                               \n",
       "Adam & sara Henegar                 170.00  \n",
       "ADAM REUSCH                         108.67  \n",
       "Adolf Allesch                       132.00  \n",
       "Adolf Allesch                       168.00  \n",
       "AL FEDERMAN                         108.67  "
      ]
     },
     "execution_count": 23,
     "metadata": {},
     "output_type": "execute_result"
    }
   ],
   "source": [
    "df.head()"
   ]
  },
  {
   "cell_type": "code",
   "execution_count": 24,
   "metadata": {},
   "outputs": [
    {
     "data": {
      "text/html": [
       "<div>\n",
       "<style scoped>\n",
       "    .dataframe tbody tr th:only-of-type {\n",
       "        vertical-align: middle;\n",
       "    }\n",
       "\n",
       "    .dataframe tbody tr th {\n",
       "        vertical-align: top;\n",
       "    }\n",
       "\n",
       "    .dataframe thead th {\n",
       "        text-align: right;\n",
       "    }\n",
       "</style>\n",
       "<table border=\"1\" class=\"dataframe\">\n",
       "  <thead>\n",
       "    <tr style=\"text-align: right;\">\n",
       "      <th></th>\n",
       "      <th>PO#</th>\n",
       "      <th>Pad Type</th>\n",
       "      <th>Rolls</th>\n",
       "      <th>Linear Feet</th>\n",
       "      <th>Store #</th>\n",
       "      <th>Current Status</th>\n",
       "      <th>Pad_Requirement_Count</th>\n",
       "    </tr>\n",
       "    <tr>\n",
       "      <th>Customer Name</th>\n",
       "      <th></th>\n",
       "      <th></th>\n",
       "      <th></th>\n",
       "      <th></th>\n",
       "      <th></th>\n",
       "      <th></th>\n",
       "      <th></th>\n",
       "    </tr>\n",
       "  </thead>\n",
       "  <tbody>\n",
       "    <tr>\n",
       "      <th>DAVID SMILEY</th>\n",
       "      <td>45864201</td>\n",
       "      <td>Super 6 lb</td>\n",
       "      <td>2.0</td>\n",
       "      <td>18.67</td>\n",
       "      <td>0554 - Lowe's of Florence</td>\n",
       "      <td>-1</td>\n",
       "      <td>108.67</td>\n",
       "    </tr>\n",
       "  </tbody>\n",
       "</table>\n",
       "</div>"
      ],
      "text/plain": [
       "                    PO#    Pad Type  Rolls  Linear Feet  \\\n",
       "Customer Name                                             \n",
       "DAVID SMILEY   45864201  Super 6 lb    2.0        18.67   \n",
       "\n",
       "                                 Store # Current Status  Pad_Requirement_Count  \n",
       "Customer Name                                                                   \n",
       "DAVID SMILEY   0554 - Lowe's of Florence             -1                 108.67  "
      ]
     },
     "execution_count": 24,
     "metadata": {},
     "output_type": "execute_result"
    }
   ],
   "source": [
    "df[df['Current Status']==-1]"
   ]
  },
  {
   "cell_type": "code",
   "execution_count": 25,
   "metadata": {},
   "outputs": [],
   "source": [
    "x = df[['Current Status','Rolls']]\n",
    "y = target"
   ]
  },
  {
   "cell_type": "code",
   "execution_count": 409,
   "metadata": {},
   "outputs": [
    {
     "ename": "NameError",
     "evalue": "name 'x' is not defined",
     "output_type": "error",
     "traceback": [
      "\u001b[1;31m---------------------------------------------------------------------------\u001b[0m",
      "\u001b[1;31mNameError\u001b[0m                                 Traceback (most recent call last)",
      "\u001b[1;32m<ipython-input-409-830ed5e65d76>\u001b[0m in \u001b[0;36m<module>\u001b[1;34m()\u001b[0m\n\u001b[1;32m----> 1\u001b[1;33m \u001b[0mx\u001b[0m\u001b[1;33m.\u001b[0m\u001b[0mhead\u001b[0m\u001b[1;33m(\u001b[0m\u001b[1;33m)\u001b[0m\u001b[1;33m\u001b[0m\u001b[0m\n\u001b[0m",
      "\u001b[1;31mNameError\u001b[0m: name 'x' is not defined"
     ]
    }
   ],
   "source": [
    "x.head()"
   ]
  },
  {
   "cell_type": "code",
   "execution_count": 410,
   "metadata": {},
   "outputs": [
    {
     "ename": "NameError",
     "evalue": "name 'y' is not defined",
     "output_type": "error",
     "traceback": [
      "\u001b[1;31m---------------------------------------------------------------------------\u001b[0m",
      "\u001b[1;31mNameError\u001b[0m                                 Traceback (most recent call last)",
      "\u001b[1;32m<ipython-input-410-9063a9f0e032>\u001b[0m in \u001b[0;36m<module>\u001b[1;34m()\u001b[0m\n\u001b[1;32m----> 1\u001b[1;33m \u001b[0my\u001b[0m\u001b[1;33m\u001b[0m\u001b[0m\n\u001b[0m",
      "\u001b[1;31mNameError\u001b[0m: name 'y' is not defined"
     ]
    }
   ],
   "source": [
    "y"
   ]
  },
  {
   "cell_type": "code",
   "execution_count": 160,
   "metadata": {},
   "outputs": [],
   "source": [
    "lm = linear_model.LinearRegression()\n",
    "model = lm.fit(x,y)"
   ]
  },
  {
   "cell_type": "code",
   "execution_count": 163,
   "metadata": {},
   "outputs": [
    {
     "data": {
      "image/png": "[encoded data removed]",
      "text/plain": [
       "<matplotlib.figure.Figure at 0x185ae04bc50>"
      ]
     },
     "metadata": {},
     "output_type": "display_data"
    },
    {
     "data": {
      "text/plain": [
       "Text(0.5,1,'regrsion')"
      ]
     },
     "execution_count": 163,
     "metadata": {},
     "output_type": "execute_result"
    },
    {
     "data": {
      "image/png": "[encoded data removed]",
      "text/plain": [
       "<matplotlib.figure.Figure at 0x185ae03ff60>"
      ]
     },
     "metadata": {},
     "output_type": "display_data"
    }
   ],
   "source": [
    "import matplotlib.pyplot as plt \n",
    "plt.plot(x['Booked Orders Pad Count'],y,color='red')\n",
    "#plt.scatter(x['Booked Orders Pad Count'],y)\n",
    "plt.show()\n",
    "plt.title(\"regrsion\")"
   ]
  },
  {
   "cell_type": "code",
   "execution_count": 166,
   "metadata": {},
   "outputs": [
    {
     "name": "stdout",
     "output_type": "stream",
     "text": [
      "    Pad_Requiremnt_Count\n",
      "0               4.000000\n",
      "1               5.000000\n",
      "2               6.000000\n",
      "3               7.000000\n",
      "4               5.000000\n",
      "5               5.000000\n",
      "6               5.000000\n",
      "7               5.571429\n",
      "8               5.642857\n",
      "9               5.714286\n",
      "10              5.785714\n",
      "11              5.857143\n",
      "12              5.928571\n",
      "13              6.000000\n",
      "14              6.071429\n",
      "15              6.142857\n",
      "16              6.214286\n",
      "17              6.285714\n",
      "18              6.357143\n",
      "19              6.428571\n",
      "20              6.500000\n",
      "21              6.571429\n",
      "22              6.642857\n",
      "23              6.714286\n",
      "24              6.785714\n",
      "25              6.857143\n",
      "26              6.928571\n",
      "27              7.000000\n",
      "28              7.071429\n",
      "29              7.142857\n",
      "..                   ...\n",
      "69             10.000000\n",
      "70             10.071429\n",
      "71             10.142857\n",
      "72             10.214286\n",
      "73             10.285714\n",
      "74             10.357143\n",
      "75             10.428571\n",
      "76             10.500000\n",
      "77             10.571429\n",
      "78             10.642857\n",
      "79             10.714286\n",
      "80             10.785714\n",
      "81             10.857143\n",
      "82             10.928571\n",
      "83             11.000000\n",
      "84             11.071429\n",
      "85             11.142857\n",
      "86             11.214286\n",
      "87             11.285714\n",
      "88             11.357143\n",
      "89             11.428571\n",
      "90             11.500000\n",
      "91             11.571429\n",
      "92             11.642857\n",
      "93             11.714286\n",
      "94             11.785714\n",
      "95             11.857143\n",
      "96             11.928571\n",
      "97             12.000000\n",
      "98             12.071429\n",
      "\n",
      "[99 rows x 1 columns]\n"
     ]
    },
    {
     "ename": "TypeError",
     "evalue": "'NoneType' object is not subscriptable",
     "output_type": "error",
     "traceback": [
      "\u001b[1;31m---------------------------------------------------------------------------\u001b[0m",
      "\u001b[1;31mTypeError\u001b[0m                                 Traceback (most recent call last)",
      "\u001b[1;32m<ipython-input-166-fc39b82ae599>\u001b[0m in \u001b[0;36m<module>\u001b[1;34m()\u001b[0m\n\u001b[0;32m      1\u001b[0m \u001b[0mpredictions\u001b[0m \u001b[1;33m=\u001b[0m \u001b[0mlm\u001b[0m\u001b[1;33m.\u001b[0m\u001b[0mpredict\u001b[0m\u001b[1;33m(\u001b[0m\u001b[0mx\u001b[0m\u001b[1;33m)\u001b[0m\u001b[1;33m\u001b[0m\u001b[0m\n\u001b[1;32m----> 2\u001b[1;33m \u001b[0mprint\u001b[0m\u001b[1;33m(\u001b[0m\u001b[0my\u001b[0m\u001b[1;33m)\u001b[0m\u001b[1;33m[\u001b[0m\u001b[1;36m0\u001b[0m\u001b[1;33m:\u001b[0m\u001b[1;36m5\u001b[0m\u001b[1;33m]\u001b[0m\u001b[1;33m\u001b[0m\u001b[0m\n\u001b[0m",
      "\u001b[1;31mTypeError\u001b[0m: 'NoneType' object is not subscriptable"
     ]
    }
   ],
   "source": [
    "predictions = lm.predict(x)\n",
    "print(y)[0:5]"
   ]
  },
  {
   "cell_type": "code",
   "execution_count": 21,
   "metadata": {},
   "outputs": [
    {
     "name": "stderr",
     "output_type": "stream",
     "text": [
      "C:\\Users\\dmereddy\\AppData\\Local\\Continuum\\anaconda3\\lib\\site-packages\\matplotlib\\figure.py:418: UserWarning: matplotlib is currently using a non-GUI backend, so cannot show the figure\n",
      "  \"matplotlib is currently using a non-GUI backend, \"\n"
     ]
    },
    {
     "data": {
      "image/png": "[encoded data removed]",
      "text/plain": [
       "<matplotlib.figure.Figure at 0x2a1d0dd0d30>"
      ]
     },
     "metadata": {},
     "output_type": "display_data"
    }
   ],
   "source": [
    "import matplotlib.pyplot as plt\n",
    "import numpy as np\n",
    "\n",
    "n = 50\n",
    "x = np.random.randn(n)\n",
    "y = x * np.random.randn(n)\n",
    "\n",
    "fig, ax = plt.subplots()\n",
    "fit = np.polyfit(x, y, deg=1)\n",
    "ax.plot(x, fit[0] * x + fit[1], color='red')\n",
    "ax.scatter(x, y)\n",
    "\n",
    "fig.show()"
   ]
  },
  {
   "cell_type": "code",
   "execution_count": 70,
   "metadata": {},
   "outputs": [],
   "source": [
    "frame = pd.DataFrame({'a' : ['the cat is blue', 'the sky is green', 'the dog is black']})"
   ]
  },
  {
   "cell_type": "code",
   "execution_count": 71,
   "metadata": {},
   "outputs": [],
   "source": [
    "mylist =['dog', 'cat', 'fish']"
   ]
  },
  {
   "cell_type": "code",
   "execution_count": 72,
   "metadata": {},
   "outputs": [
    {
     "data": {
      "text/plain": [
       "'dog|cat|fish'"
      ]
     },
     "execution_count": 72,
     "metadata": {},
     "output_type": "execute_result"
    }
   ],
   "source": [
    "pattern = '|'.join(mylist)\n",
    "pattern"
   ]
  },
  {
   "cell_type": "code",
   "execution_count": 73,
   "metadata": {},
   "outputs": [
    {
     "data": {
      "text/plain": [
       "0     True\n",
       "1    False\n",
       "2     True\n",
       "Name: a, dtype: bool"
      ]
     },
     "execution_count": 73,
     "metadata": {},
     "output_type": "execute_result"
    }
   ],
   "source": [
    "frame.a.str.contains(pattern)"
   ]
  },
  {
   "cell_type": "code",
   "execution_count": 75,
   "metadata": {},
   "outputs": [
    {
     "data": {
      "text/plain": [
       "0     True\n",
       "1    False\n",
       "2     True\n",
       "Name: a, dtype: bool"
      ]
     },
     "execution_count": 75,
     "metadata": {},
     "output_type": "execute_result"
    }
   ],
   "source": [
    "frame['a'].str.contains(pattern)"
   ]
  },
  {
   "cell_type": "code",
   "execution_count": null,
   "metadata": {},
   "outputs": [],
   "source": []
  }
 ],
 "metadata": {
  "kernelspec": {
   "display_name": "Python 3",
   "language": "python",
   "name": "python3"
  },
  "language_info": {
   "codemirror_mode": {
    "name": "ipython",
    "version": 3
   },
   "file_extension": ".py",
   "mimetype": "text/x-python",
   "name": "python",
   "nbconvert_exporter": "python",
   "pygments_lexer": "ipython3",
   "version": "3.6.4"
  }
 },
 "nbformat": 4,
 "nbformat_minor": 2
}
