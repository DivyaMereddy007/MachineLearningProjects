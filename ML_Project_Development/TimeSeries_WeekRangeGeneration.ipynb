{
 "cells": [
  {
   "cell_type": "code",
   "execution_count": 16,
   "metadata": {},
   "outputs": [
    {
     "name": "stdout",
     "output_type": "stream",
     "text": [
      "2018-01-14 00:00:00\n"
     ]
    }
   ],
   "source": [
    "import datetime\n",
    "\n",
    "df['WeekStartDate']=df.index\n",
    "df['WeekEndDate']=df.index\n",
    "for i in range(0,len(df)-1):\n",
    "    d=df['year'][i].astype(str) +\"-W\"+df['weekofyear_Original'][i].astype(str)\n",
    "    df['WeekStartDate'][i]=datetime.datetime.strptime( d + '-0', \"%Y-W%W-%w\")\n",
    "    df['WeekEndDate'][i]=datetime.datetime.strptime( d + '-6', \"%Y-W%W-%w\")"
   ]
  },
  {
   "cell_type": "code",
   "execution_count": null,
   "metadata": {},
   "outputs": [],
   "source": [
    "today=datetime.datetime.today().strftime('%Y-%m-%d')\n",
    "#tetsing\n",
    "today='2016-11-07'\n",
    "#print(datetime.datetime.today().strftime('%Y-%m-%d'))\n",
    "sql_results = sql_results[sql_results['date_received']==today]"
   ]
  }
 ],
 "metadata": {
  "kernelspec": {
   "display_name": "Python 3",
   "language": "python",
   "name": "python3"
  },
  "language_info": {
   "codemirror_mode": {
    "name": "ipython",
    "version": 3
   },
   "file_extension": ".py",
   "mimetype": "text/x-python",
   "name": "python",
   "nbconvert_exporter": "python",
   "pygments_lexer": "ipython3",
   "version": "3.6.4"
  }
 },
 "nbformat": 4,
 "nbformat_minor": 2
}
