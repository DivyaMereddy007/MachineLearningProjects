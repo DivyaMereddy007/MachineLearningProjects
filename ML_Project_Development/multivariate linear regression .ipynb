{
 "cells": [
  {
   "cell_type": "code",
   "execution_count": 1,
   "metadata": {},
   "outputs": [
    {
     "data": {
      "text/plain": [
       "<matplotlib.figure.Figure at 0x19f058eaac8>"
      ]
     },
     "metadata": {},
     "output_type": "display_data"
    }
   ],
   "source": [
    "import numpy as np \n",
    "import matplotlib.pyplot as plt\n",
    "\n",
    "class GradientDescent():\n",
    "\tdef __init__(self, alpha=0.1, tolerance=0.02, max_iterations=500):\n",
    "\n",
    "\t\tself._alpha = alpha\n",
    "\t\tself._tolerance = tolerance\n",
    "\t\tself._max_iterations = max_iterations\n",
    "    \n",
    "\t\tself._thetas = None\n",
    "\n",
    "\tdef fit(self, xs, ys):\n",
    "\t\tnum_examples, num_features = np.shape(xs)\n",
    "\t\tself._thetas = np.ones(num_features)\n",
    "\n",
    "\t\txs_transposed = xs.transpose()\n",
    "\t\tfor i in range(self._max_iterations):\n",
    "\t\t\t#difference between our hypothesis and actual values\n",
    "\t\t\tdiffs = np.dot(xs,self._thetas) - ys\n",
    "\t\t\t#sum of the squares\n",
    "\t\t\tcost = np.sum(diffs**2) / (2*num_examples)\n",
    "\t\t\t#calculate averge gradient for every example\n",
    "\t\t\tgradient = np.dot(xs_transposed, diffs) / num_examples\n",
    "\t\t\t#update the coeffcients\n",
    "\t\t\tself._thetas = self._thetas-self._alpha*gradient\n",
    "\t\t\t#check if fit is \"good enough\"\n",
    "\t\t\tif cost < self._tolerance:\n",
    "\t\t\t\treturn self._thetas\n",
    "\n",
    "\t\treturn self._thetas\n",
    "\n",
    "\tdef predict(self, x):\n",
    "\t\treturn np.dot(x, self._thetas)\n",
    "\n",
    "#load some example data\n",
    "data = np.loadtxt(\"https://gist.githubusercontent.com/samueljackson92/8148506/raw/ce1d40fe3f6946bc7c83a0f0a0cb18d0ff867bd2/irisdata.txt\", usecols=(0,1,2,3), delimiter=',')\n",
    "col_names = ['sepal length', 'sepal width', 'petal length', 'petal width']\n",
    "\n",
    "data_map = dict(zip(col_names, data.transpose()))\n",
    "\n",
    "#create martix of features\n",
    "features = np.column_stack((data_map['petal length'], np.ones(len(data_map['petal length']))))\n",
    "\n",
    "gd = GradientDescent(tolerance=0.022)\n",
    "thetas = gd.fit(features, data_map['petal width'])\n",
    "gradient, intercept = thetas\n",
    "\n",
    "#predict values accroding to our model \n",
    "ys = gd.predict(features)\n",
    "\n",
    "plt.scatter(data_map['petal length'], data_map['petal width'])\n",
    "plt.plot(data_map['petal length'], ys)\n",
    "plt.show()"
   ]
  },
  {
   "cell_type": "code",
   "execution_count": 9,
   "metadata": {},
   "outputs": [
    {
     "data": {
      "text/plain": [
       "array([ 0.39554627, -0.27183837])"
      ]
     },
     "execution_count": 9,
     "metadata": {},
     "output_type": "execute_result"
    }
   ],
   "source": [
    "thetas"
   ]
  },
  {
   "cell_type": "code",
   "execution_count": 3,
   "metadata": {},
   "outputs": [],
   "source": [
    "data = np.loadtxt(\"https://gist.githubusercontent.com/samueljackson92/8148506/raw/ce1d40fe3f6946bc7c83a0f0a0cb18d0ff867bd2/irisdata.txt\", usecols=(0,1,2,3), delimiter=',')\n",
    "col_names = ['sepal length', 'sepal width', 'petal length', 'petal width']\n",
    "\n",
    "data_map = dict(zip(col_names, data.transpose()))"
   ]
  },
  {
   "cell_type": "code",
   "execution_count": 4,
   "metadata": {},
   "outputs": [],
   "source": [
    "features = np.column_stack((data_map['petal length'], np.ones(len(data_map['petal length']))))"
   ]
  },
  {
   "cell_type": "code",
   "execution_count": 8,
   "metadata": {},
   "outputs": [
    {
     "name": "stdout",
     "output_type": "stream",
     "text": [
      "[[1, 2, 3], [4, 5, 6]]\n",
      "\n",
      "\n",
      "[[1 4]\n",
      " [2 5]\n",
      " [3 6]]\n"
     ]
    }
   ],
   "source": [
    "# You need to install numpy in order to import it\n",
    "# Numpy transpose returns similar result when \n",
    "# applied on 1D matrix\n",
    "import numpy \n",
    "matrix=[[1,2,3],[4,5,6]]\n",
    "print(matrix)\n",
    "print(\"\\n\")\n",
    "print(numpy.transpose(matrix))"
   ]
  },
  {
   "cell_type": "code",
   "execution_count": 7,
   "metadata": {},
   "outputs": [
    {
     "data": {
      "text/plain": [
       "<__main__.GradientDescent at 0x19f05381518>"
      ]
     },
     "execution_count": 7,
     "metadata": {},
     "output_type": "execute_result"
    }
   ],
   "source": [
    "GradientDescent(tolerance=0.022)"
   ]
  },
  {
   "cell_type": "code",
   "execution_count": null,
   "metadata": {},
   "outputs": [],
   "source": []
  }
 ],
 "metadata": {
  "kernelspec": {
   "display_name": "Python 3",
   "language": "python",
   "name": "python3"
  },
  "language_info": {
   "codemirror_mode": {
    "name": "ipython",
    "version": 3
   },
   "file_extension": ".py",
   "mimetype": "text/x-python",
   "name": "python",
   "nbconvert_exporter": "python",
   "pygments_lexer": "ipython3",
   "version": "3.6.4"
  }
 },
 "nbformat": 4,
 "nbformat_minor": 2
}
